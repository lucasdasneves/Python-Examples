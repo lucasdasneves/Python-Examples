{
 "cells": [
  {
   "cell_type": "code",
   "execution_count": 67,
   "metadata": {},
   "outputs": [],
   "source": [
    "def reg_simp(x,y):\n",
    "    import numpy as np\n",
    "    from scipy.stats.stats import pearsonr \n",
    "    \n",
    "    #calculos necessários\n",
    "    np.array(x)\n",
    "    np.array(y)\n",
    "    avg_x = np.mean(x)\n",
    "    avg_y = np.mean(y)\n",
    "    corr = pearsonr(x,y)\n",
    "    std_x = np.std(x)\n",
    "    std_y = np.std(y)\n",
    "    \n",
    "    #define B1\n",
    "    B1 = round(corr[0] * (std_y/std_x),3)\n",
    "    \n",
    "    #define B0\n",
    "    B0 = round(avg_y - (B1*avg_x),3)\n",
    "    \n",
    "    print (\"O coeficiente B1 é: {}\".format(B1))\n",
    "    print (\"O coeficiente B0 é: {}\".format(B0))\n",
    "    print(\"A equação fica definida como Y ={} + {} * X\".format(B1,B0))\n",
    "    "
   ]
  },
  {
   "cell_type": "code",
   "execution_count": 68,
   "metadata": {},
   "outputs": [],
   "source": [
    "x = [1,2,4,3,8,9]\n",
    "y = [1,3,3,2,5,6]"
   ]
  },
  {
   "cell_type": "code",
   "execution_count": 69,
   "metadata": {},
   "outputs": [
    {
     "name": "stdout",
     "output_type": "stream",
     "text": [
      "O coeficiente B1 é: 0.542\n",
      "O coeficiente B0 é: 0.894\n",
      "A equação fica definida como Y =0.542 + 0.894 * X\n"
     ]
    }
   ],
   "source": [
    "reg_simp(x,y)"
   ]
  }
 ],
 "metadata": {
  "kernelspec": {
   "display_name": "Python 3",
   "language": "python",
   "name": "python3"
  },
  "language_info": {
   "codemirror_mode": {
    "name": "ipython",
    "version": 3
   },
   "file_extension": ".py",
   "mimetype": "text/x-python",
   "name": "python",
   "nbconvert_exporter": "python",
   "pygments_lexer": "ipython3",
   "version": "3.7.3"
  }
 },
 "nbformat": 4,
 "nbformat_minor": 4
}
